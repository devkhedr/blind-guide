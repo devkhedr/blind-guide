{
 "cells": [
  {
   "cell_type": "code",
   "execution_count": 1,
   "id": "ae362883",
   "metadata": {},
   "outputs": [],
   "source": [
    "import cv2\n",
    "from YOLOv8 import YOLOv8"
   ]
  },
  {
   "cell_type": "code",
   "execution_count": 2,
   "id": "6114fe21",
   "metadata": {},
   "outputs": [],
   "source": [
    "singleton = YOLOv8()"
   ]
  },
  {
   "cell_type": "code",
   "execution_count": 3,
   "id": "767d28aa",
   "metadata": {
    "scrolled": true
   },
   "outputs": [
    {
     "name": "stderr",
     "output_type": "stream",
     "text": [
      "Ultralytics YOLOv8.0.34  Python-3.9.13 torch-1.13.1+cpu CPU\n",
      "YOLOv8x summary (fused): 268 layers, 68200608 parameters, 0 gradients, 257.8 GFLOPs\n",
      "\n",
      "0: 480x640 1 cup, 2 forks, 2 pizzas, 3177.8ms\n",
      "Speed: 5.0ms pre-process, 3177.8ms inference, 6.0ms postprocess per image at shape (1, 3, 640, 640)\n"
     ]
    },
    {
     "data": {
      "text/plain": [
       "'[\"شوكة في أسفل اليسار\" ، \"بيتزا في أعلى اليسار\" ، \"بيتزا في المنتصف\" ، \"فنجان في الأعلى\" ، \"شوكة في أسفل اليسار\"]'"
      ]
     },
     "execution_count": 3,
     "metadata": {},
     "output_type": "execute_result"
    }
   ],
   "source": [
    "image=cv2.imread(r'E:\\Graduation project\\data\\000000163611.jpg')\n",
    "language='ar'\n",
    "conf=0.7\n",
    "txt,Image=singleton.predict(image,conf,language)\n",
    "#cv2.imshow('yolo',image)\n",
    "#cv2.waitKey(0)\n",
    "#cv2.destroyAllWindows()\n",
    "txt"
   ]
  },
  {
   "cell_type": "raw",
   "id": "c8d2e4e6",
   "metadata": {},
   "source": [
    "العربية\tar\n",
    "البلغارية\tbg\n",
    "الكرواتية\thr\n",
    "التشيكية\tcs\n",
    "الدانماركية\tda\n",
    "الألمانية\tde\n",
    "اليونانية\tel\n",
    "الإنجليزية\ten\n",
    "الإستونية\tet\n",
    "الإسبانية\tes\n",
    "الفنلندية\tfi\n",
    "الفرنسية\tfr\n",
    "الأيرلندية\tga\n",
    "الهندية\thi\n",
    "البلغارية\thu\n",
    "الإيطالية\tit\n",
    "اليابانية\tja\n",
    "الكورية\tko\n",
    "اللاتفية\tlv\n",
    "الليتوانية\tlt\n",
    "الهولندية\tnl\n",
    "النرويجية\tno\n",
    "البولندية\tpl\n",
    "البرتغالية\tpt\n",
    "السويدية\tsv\n",
    "الرومانية\tro\n",
    "الروسية\tru\n",
    "الصربية\tsr\n",
    "السلوفاكية\tsk\n",
    "السلوفينية\tsl\n",
    "التايوانية\tth\n",
    "التركية\ttr\n",
    "الأوكرانية\tuk\n"
   ]
  },
  {
   "cell_type": "code",
   "execution_count": null,
   "id": "2942e070",
   "metadata": {},
   "outputs": [],
   "source": []
  },
  {
   "cell_type": "code",
   "execution_count": null,
   "id": "d20b035e",
   "metadata": {},
   "outputs": [],
   "source": []
  }
 ],
 "metadata": {
  "kernelspec": {
   "display_name": "GP",
   "language": "python",
   "name": "gp"
  },
  "language_info": {
   "codemirror_mode": {
    "name": "ipython",
    "version": 3
   },
   "file_extension": ".py",
   "mimetype": "text/x-python",
   "name": "python",
   "nbconvert_exporter": "python",
   "pygments_lexer": "ipython3",
   "version": "3.9.13"
  }
 },
 "nbformat": 4,
 "nbformat_minor": 5
}
