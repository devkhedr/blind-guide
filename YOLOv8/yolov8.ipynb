{
 "cells": [
  {
   "cell_type": "code",
   "execution_count": 1,
   "id": "ae362883",
   "metadata": {},
   "outputs": [],
   "source": [
    "from ultralytics import YOLO\n",
    "import cv2\n",
    "import numpy as np\n",
    "import funcToBoxes as pb"
   ]
  },
  {
   "cell_type": "code",
   "execution_count": 2,
   "id": "371cb366",
   "metadata": {},
   "outputs": [],
   "source": [
    "labels = {0: u'__background__', 1: u'person', 2: u'bicycle',\n",
    "          3: u'car', 4: u'motorcycle', 5: u'airplane', 6: u'bus',\n",
    "          7: u'train', 8: u'truck', 9: u'boat', 10: u'traffic light',\n",
    "          11: u'fire hydrant', 12: u'stop sign', 13: u'parking meter',\n",
    "          14: u'bench', 15: u'bird', 16: u'cat', 17: u'dog', 18: u'horse',\n",
    "          19: u'sheep', 20: u'cow', 21: u'elephant', 22: u'bear', 23: u'zebra',\n",
    "          24: u'giraffe', 25: u'backpack', 26: u'umbrella', 27: u'handbag',\n",
    "          28: u'tie', 29: u'suitcase', 30: u'frisbee', 31: u'skis', 32: u'snowboard',\n",
    "          33: u'sports ball', 34: u'kite', 35: u'baseball bat', 36: u'baseball glove',\n",
    "          37: u'skateboard', 38: u'surfboard', 39: u'tennis racket', 40: u'bottle',\n",
    "          41: u'wine glass', 42: u'cup', 43: u'fork', 44: u'knife', 45: u'spoon',\n",
    "          46: u'bowl', 47: u'banana', 48: u'apple', 49: u'sandwich', 50: u'orange',\n",
    "          51: u'broccoli', 52: u'carrot', 53: u'hot dog', 54: u'pizza', 55: u'donut',\n",
    "          56: u'cake', 57: u'chair', 58: u'couch', 59: u'potted plant', 60: u'bed',\n",
    "          61: u'dining table', 62: u'toilet', 63: u'tv', 64: u'laptop', 65: u'mouse',\n",
    "          66: u'remote', 67: u'keyboard', 68: u'cell phone', 69: u'microwave',\n",
    "          70: u'oven', 71: u'toaster', 72: u'sink', 73: u'refrigerator',\n",
    "          74: u'book', 75: u'clock', 76: u'vase', 77: u'scissors',\n",
    "          78: u'teddy bear', 79: u'hair drier', 80: u'toothbrush'}\n",
    "side=['in top left','in top','in top right','in left','in middle','in right','in bottom left','in bottom','in bottom right']\n",
    "#TL,T,TR,L,C,R,BL,B,BR"
   ]
  },
  {
   "cell_type": "code",
   "execution_count": 3,
   "id": "94bef4ca",
   "metadata": {},
   "outputs": [],
   "source": [
    "model=YOLO('yolov8x.pt')"
   ]
  },
  {
   "cell_type": "code",
   "execution_count": 4,
   "id": "1657c8d8",
   "metadata": {},
   "outputs": [
    {
     "name": "stderr",
     "output_type": "stream",
     "text": [
      "Ultralytics YOLOv8.0.25  Python-3.9.13 torch-1.13.1+cpu CPU\n",
      "YOLOv8x summary (fused): 268 layers, 68200608 parameters, 0 gradients, 257.8 GFLOPs\n",
      "\n",
      "0: 448x640 3 elephants, 2100.8ms\n",
      "Speed: 4.0ms pre-process, 2100.8ms inference, 0.0ms postprocess per image at shape (1, 3, 640, 640)\n"
     ]
    },
    {
     "name": "stdout",
     "output_type": "stream",
     "text": [
      "elephant in right , elephant in left , elephant in middle\n"
     ]
    }
   ],
   "source": [
    "img=cv2.imread(r'000000018380.jpg')\n",
    "#img=pb.resize(img,0.7)\n",
    "results= model(img,conf=0.7)\n",
    "Box=results[0].boxes.xyxy\n",
    "cls=results[0].boxes.cls.numpy()\n",
    "H,W=img.shape[:2]\n",
    "BB=pb.DivideImageIntoBox(H,W)\n",
    "IOU=[]\n",
    "text=[]\n",
    "c=0\n",
    "for box in Box:\n",
    "    for b in BB:\n",
    "        IOU.append(pb.iou(box,b))\n",
    "    text.append(labels[cls[c]+1]+' '+side[np.argmax(np.array(IOU))])\n",
    "    c+=1\n",
    "    IOU=[]\n",
    "mytext=' , '.join(text)\n",
    "print(mytext)"
   ]
  },
  {
   "cell_type": "code",
   "execution_count": 5,
   "id": "d3edfe3e",
   "metadata": {
    "scrolled": true
   },
   "outputs": [
    {
     "name": "stderr",
     "output_type": "stream",
     "text": [
      "\n",
      "0: 448x640 3 elephants, 2179.5ms\n",
      "Speed: 3.0ms pre-process, 2179.5ms inference, 15.6ms postprocess per image at shape (1, 3, 640, 640)\n"
     ]
    }
   ],
   "source": [
    "img=cv2.imread(r'E:\\Graduation project\\data\\000000445248.jpg')\n",
    "#img=pb.resize(img,0.7)\n",
    "results= model(img,conf=0.7,show=True)\n",
    "cv2.waitKey(0)\n",
    "cv2.destroyAllWindows()"
   ]
  },
  {
   "cell_type": "markdown",
   "id": "143b0049",
   "metadata": {},
   "source": [
    "![alt text](frame.png \"frame\")"
   ]
  }
 ],
 "metadata": {
  "kernelspec": {
   "display_name": "GP",
   "language": "python",
   "name": "gp"
  },
  "language_info": {
   "codemirror_mode": {
    "name": "ipython",
    "version": 3
   },
   "file_extension": ".py",
   "mimetype": "text/x-python",
   "name": "python",
   "nbconvert_exporter": "python",
   "pygments_lexer": "ipython3",
   "version": "3.9.13"
  }
 },
 "nbformat": 4,
 "nbformat_minor": 5
}
