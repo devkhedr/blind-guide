{
 "cells": [
  {
   "cell_type": "code",
   "execution_count": null,
   "metadata": {
    "id": "X4cKq1qbV8vK"
   },
   "outputs": [],
   "source": [
    "#!pip install ultralytics"
   ]
  },
  {
   "cell_type": "code",
   "execution_count": null,
   "metadata": {
    "id": "yxRvJqVle6z7"
   },
   "outputs": [],
   "source": [
    "import cv2\n",
    "from YOLOv8 import YOLOv8"
   ]
  },
  {
   "cell_type": "code",
   "execution_count": null,
   "metadata": {
    "id": "d_SVMp7NfjyJ"
   },
   "outputs": [],
   "source": [
    "singleton = YOLOv8()"
   ]
  },
  {
   "cell_type": "code",
   "execution_count": null,
   "metadata": {
    "id": "LgvVe_2Om0iH"
   },
   "outputs": [],
   "source": [
    "image=cv2.imread('/content/000000001584.jpg')\n",
    "language='ar'\n",
    "conf=0.5\n",
    "txt,Image,boxes=singleton.predict(image,conf,language)\n",
    "print(txt)"
   ]
  },
  {
   "cell_type": "code",
   "execution_count": null,
   "metadata": {
    "id": "q93o45uYm8z5"
   },
   "outputs": [],
   "source": [
    "from google.colab.patches import cv2_imshow\n",
    "cv2_imshow(Image)"
   ]
  },
  {
   "cell_type": "code",
   "execution_count": null,
   "metadata": {
    "id": "EfaF87LgpixR"
   },
   "outputs": [],
   "source": [
    "b=boxes.numpy()#[x_min,y_min,x_max,y_max,score,class]"
   ]
  }
 ],
 "metadata": {
  "accelerator": "GPU",
  "colab": {
   "private_outputs": true,
   "provenance": []
  },
  "gpuClass": "standard",
  "kernelspec": {
   "display_name": "Python 3 (ipykernel)",
   "language": "python",
   "name": "python3"
  },
  "language_info": {
   "codemirror_mode": {
    "name": "ipython",
    "version": 3
   },
   "file_extension": ".py",
   "mimetype": "text/x-python",
   "name": "python",
   "nbconvert_exporter": "python",
   "pygments_lexer": "ipython3",
   "version": "3.9.13"
  }
 },
 "nbformat": 4,
 "nbformat_minor": 1
}
