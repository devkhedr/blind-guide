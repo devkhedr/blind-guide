{
  "nbformat": 4,
  "nbformat_minor": 0,
  "metadata": {
    "colab": {
      "provenance": [],
      "private_outputs": true
    },
    "kernelspec": {
      "name": "python3",
      "display_name": "Python 3"
    },
    "language_info": {
      "name": "python"
    },
    "accelerator": "GPU",
    "gpuClass": "standard"
  },
  "cells": [
    {
      "cell_type": "code",
      "source": [
        "#!pip install translate"
      ],
      "metadata": {
        "id": "lGY1_0CsxkKz"
      },
      "execution_count": null,
      "outputs": []
    },
    {
      "cell_type": "code",
      "source": [
        "#!pip install ultralytics"
      ],
      "metadata": {
        "id": "X4cKq1qbV8vK"
      },
      "execution_count": null,
      "outputs": []
    },
    {
      "cell_type": "code",
      "execution_count": null,
      "metadata": {
        "id": "yxRvJqVle6z7"
      },
      "outputs": [],
      "source": [
        "import cv2\n",
        "from YOLOv8 import YOLOv8"
      ]
    },
    {
      "cell_type": "code",
      "source": [
        "singleton = YOLOv8()"
      ],
      "metadata": {
        "id": "d_SVMp7NfjyJ"
      },
      "execution_count": null,
      "outputs": []
    },
    {
      "cell_type": "code",
      "source": [
        "image=cv2.imread('/content/000000001584.jpg')\n",
        "language='ar'\n",
        "conf=0.5\n",
        "txt,Image=singleton.predict(image,conf,language)\n",
        "print(txt)"
      ],
      "metadata": {
        "id": "LgvVe_2Om0iH"
      },
      "execution_count": null,
      "outputs": []
    },
    {
      "cell_type": "code",
      "source": [
        "from google.colab.patches import cv2_imshow\n",
        "cv2_imshow(Image)"
      ],
      "metadata": {
        "id": "q93o45uYm8z5"
      },
      "execution_count": null,
      "outputs": []
    },
    {
      "cell_type": "code",
      "source": [],
      "metadata": {
        "id": "EfaF87LgpixR"
      },
      "execution_count": null,
      "outputs": []
    }
  ]
}