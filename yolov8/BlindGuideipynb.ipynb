{
 "cells": [
  {
   "cell_type": "code",
   "execution_count": 1,
   "metadata": {
    "id": "yxRvJqVle6z7"
   },
   "outputs": [],
   "source": [
    "import cv2\n",
    "from YOLOv8 import YOLOv8\n"
   ]
  },
  {
   "cell_type": "code",
   "execution_count": 2,
   "metadata": {
    "id": "d_SVMp7NfjyJ"
   },
   "outputs": [],
   "source": [
    "singleton = YOLOv8()"
   ]
  },
  {
   "cell_type": "code",
   "execution_count": 3,
   "metadata": {
    "colab": {
     "base_uri": "https://localhost:8080/"
    },
    "id": "LgvVe_2Om0iH",
    "outputId": "723bd3c3-85e7-4e14-a1d8-48b8e9ee9820"
   },
   "outputs": [
    {
     "name": "stderr",
     "output_type": "stream",
     "text": [
      "\n",
      "0: 448x640 5 persons, 11 cars, 1 traffic light, 1 skateboard, 2345.9ms\n",
      "Speed: 12.9ms preprocess, 2345.9ms inference, 0.0ms postprocess per image at shape (1, 3, 640, 640)\n",
      "WARNING  'Boxes.boxes' is deprecated. Use 'Boxes.data' instead.\n",
      "WARNING  'Boxes.boxes' is deprecated. Use 'Boxes.data' instead.\n"
     ]
    },
    {
     "name": "stdout",
     "output_type": "stream",
     "text": [
      "['a car on the right', 'a car on the bottom right', 'a car on the bottom left', 'a person on the middle', 'a car on the bottom left', 'a car on the right', 'a car on the right', 'a car on the left', 'a car on the middle', 'a car on the right', 'a car on the middle', 'a person on the right', 'a car on the left', 'a person on the middle', 'a person on the middle', 'a person on the middle', 'a traffic light on the top', 'a skateboard on the bottom']\n"
     ]
    }
   ],
   "source": [
    "image=cv2.imread('000000458325.jpg')\n",
    "\n",
    "language='ar'\n",
    "conf=0.7\n",
    "txt,Image,boxes=singleton.predict(image,conf)\n",
    "print(txt)"
   ]
  },
  {
   "cell_type": "code",
   "execution_count": 4,
   "metadata": {
    "colab": {
     "base_uri": "https://localhost:8080/",
     "height": 444
    },
    "id": "q93o45uYm8z5",
    "outputId": "3d60ab85-31fd-4648-959d-129950757c76"
   },
   "outputs": [],
   "source": [
    "cv2.imshow('0',Image)\n",
    "cv2.waitKey()\n",
    "cv2.destroyAllWindows()"
   ]
  },
  {
   "cell_type": "code",
   "execution_count": 7,
   "metadata": {
    "id": "lGY1_0CsxkKz"
   },
   "outputs": [],
   "source": [
    "b=boxes.numpy()#[x_min,y_min,x_max,y_max,score,class]"
   ]
  },
  {
   "cell_type": "code",
   "execution_count": 8,
   "metadata": {},
   "outputs": [
    {
     "data": {
      "text/plain": [
       "array([[     484.79,       197.6,      639.72,      341.91,      0.9466,           2],\n",
       "       [     550.06,      207.76,      639.78,      389.59,     0.94215,           2],\n",
       "       [     3.3649,      211.18,      131.89,      390.77,     0.93957,           2],\n",
       "       [     296.91,      155.71,      365.08,      337.88,     0.92123,           0],\n",
       "       [    0.28244,      207.65,      72.104,      422.05,     0.91773,           2],\n",
       "       [     446.42,      185.96,      585.54,      310.59,     0.90149,           2],\n",
       "       [     421.89,      191.47,         488,      290.63,     0.88921,           2],\n",
       "       [     0.2852,      162.79,      181.55,      331.03,     0.88252,           2],\n",
       "       [     378.37,      198.19,      423.54,      266.06,      0.8813,           2],\n",
       "       [     407.97,      188.98,      466.73,      274.17,     0.85514,           2],\n",
       "       [     356.11,      193.77,      413.49,       255.9,     0.82445,           2],\n",
       "       [     585.78,       174.7,       614.5,      199.58,     0.80576,           0],\n",
       "       [      154.7,      187.16,      195.48,      259.57,     0.80227,           2],\n",
       "       [     203.41,      178.99,       229.3,      239.51,     0.79171,           0],\n",
       "       [     257.54,      181.91,      274.61,      237.31,     0.76408,           0],\n",
       "       [     270.73,      179.25,      296.64,       236.2,     0.74998,           0],\n",
       "       [     357.45,       61.48,      369.45,      87.229,     0.71708,           9],\n",
       "       [     310.67,      330.12,      336.54,      348.06,     0.71272,          36]], dtype=float32)"
      ]
     },
     "execution_count": 8,
     "metadata": {},
     "output_type": "execute_result"
    }
   ],
   "source": []
  },
  {
   "cell_type": "code",
   "execution_count": null,
   "metadata": {},
   "outputs": [],
   "source": []
  }
 ],
 "metadata": {
  "colab": {
   "provenance": []
  },
  "kernelspec": {
   "display_name": "Python 3 (ipykernel)",
   "language": "python",
   "name": "python3"
  },
  "language_info": {
   "codemirror_mode": {
    "name": "ipython",
    "version": 3
   },
   "file_extension": ".py",
   "mimetype": "text/x-python",
   "name": "python",
   "nbconvert_exporter": "python",
   "pygments_lexer": "ipython3",
   "version": "3.9.13"
  }
 },
 "nbformat": 4,
 "nbformat_minor": 1
}
