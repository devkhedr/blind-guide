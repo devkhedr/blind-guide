{
 "cells": [
  {
   "cell_type": "code",
   "execution_count": null,
   "metadata": {
    "id": "yxRvJqVle6z7"
   },
   "outputs": [],
   "source": [
    "import cv2\n",
    "from YOLOv8 import YOLOv8\n"
   ]
  },
  {
   "cell_type": "code",
   "execution_count": null,
   "metadata": {
    "id": "d_SVMp7NfjyJ"
   },
   "outputs": [],
   "source": [
    "singleton = YOLOv8()"
   ]
  },
  {
   "cell_type": "code",
   "execution_count": null,
   "metadata": {
    "colab": {
     "base_uri": "https://localhost:8080/"
    },
    "id": "LgvVe_2Om0iH",
    "outputId": "723bd3c3-85e7-4e14-a1d8-48b8e9ee9820"
   },
   "outputs": [],
   "source": [
    "image=cv2.imread('000000458325.jpg')\n",
    "\n",
    "language='ar'\n",
    "conf=0.7\n",
    "txt,Image,boxes=singleton.predict(image,conf)\n",
    "print(txt)"
   ]
  },
  {
   "cell_type": "code",
   "execution_count": null,
   "metadata": {
    "colab": {
     "base_uri": "https://localhost:8080/",
     "height": 444
    },
    "id": "q93o45uYm8z5",
    "outputId": "3d60ab85-31fd-4648-959d-129950757c76"
   },
   "outputs": [],
   "source": [
    "cv2.imshow('0',Image)\n",
    "cv2.waitKey()\n",
    "cv2.destroyAllWindows()"
   ]
  },
  {
   "cell_type": "code",
   "execution_count": null,
   "metadata": {
    "id": "lGY1_0CsxkKz"
   },
   "outputs": [],
   "source": [
    "b=boxes.numpy()#[x_min,y_min,x_max,y_max,score,class]"
   ]
  },
  {
   "cell_type": "code",
   "execution_count": null,
   "metadata": {},
   "outputs": [],
   "source": []
  },
  {
   "cell_type": "code",
   "execution_count": null,
   "metadata": {},
   "outputs": [],
   "source": []
  }
 ],
 "metadata": {
  "colab": {
   "provenance": []
  },
  "kernelspec": {
   "display_name": "Python 3 (ipykernel)",
   "language": "python",
   "name": "python3"
  },
  "language_info": {
   "codemirror_mode": {
    "name": "ipython",
    "version": 3
   },
   "file_extension": ".py",
   "mimetype": "text/x-python",
   "name": "python",
   "nbconvert_exporter": "python",
   "pygments_lexer": "ipython3",
   "version": "3.9.13"
  }
 },
 "nbformat": 4,
 "nbformat_minor": 1
}
