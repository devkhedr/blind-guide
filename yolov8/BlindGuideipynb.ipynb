{
 "cells": [
  {
   "cell_type": "code",
   "execution_count": 1,
   "metadata": {
    "id": "yxRvJqVle6z7"
   },
   "outputs": [],
   "source": [
    "import cv2\n",
    "from YOLOv8 import YOLOv8"
   ]
  },
  {
   "cell_type": "code",
   "execution_count": 2,
   "metadata": {
    "id": "d_SVMp7NfjyJ"
   },
   "outputs": [],
   "source": [
    "singleton = YOLOv8()"
   ]
  },
  {
   "cell_type": "code",
   "execution_count": 3,
   "metadata": {
    "colab": {
     "base_uri": "https://localhost:8080/"
    },
    "id": "LgvVe_2Om0iH",
    "outputId": "723bd3c3-85e7-4e14-a1d8-48b8e9ee9820"
   },
   "outputs": [
    {
     "name": "stderr",
     "output_type": "stream",
     "text": [
      "\n",
      "0: 448x640 5 persons, 11 cars, 1 traffic light, 1 skateboard, 2482.0ms\n",
      "Speed: 14.4ms preprocess, 2482.0ms inference, 0.0ms postprocess per image at shape (1, 3, 640, 640)\n",
      "WARNING  'Boxes.boxes' is deprecated. Use 'Boxes.data' instead.\n",
      "WARNING  'Boxes.boxes' is deprecated. Use 'Boxes.data' instead.\n"
     ]
    },
    {
     "name": "stdout",
     "output_type": "stream",
     "text": [
      "['a car on the right', 'a car on the bottom right', 'a car on the bottom left', 'a person on the middle', 'a car on the bottom left', 'a car on the right', 'a car on the right', 'a car on the left', 'a car on the middle', 'a car on the right', 'a car on the middle', 'a person on the right', 'a car on the left', 'a person on the middle', 'a person on the middle', 'a person on the middle', 'a traffic light on the top', 'a skateboard on the bottom']\n"
     ]
    }
   ],
   "source": [
    "image=cv2.imread('000000458325.jpg')\n",
    "\n",
    "language='ar'\n",
    "conf=0.7\n",
    "txt,Image,boxes=singleton.predict(image,conf)\n",
    "print(txt)"
   ]
  },
  {
   "cell_type": "code",
   "execution_count": 4,
   "metadata": {
    "colab": {
     "base_uri": "https://localhost:8080/",
     "height": 444
    },
    "id": "q93o45uYm8z5",
    "outputId": "3d60ab85-31fd-4648-959d-129950757c76"
   },
   "outputs": [],
   "source": [
    "cv2.imshow('0',Image)\n",
    "cv2.waitKey()\n",
    "cv2.destroyAllWindows()"
   ]
  },
  {
   "cell_type": "code",
   "execution_count": 7,
   "metadata": {
    "id": "lGY1_0CsxkKz"
   },
   "outputs": [
    {
     "data": {
      "text/plain": [
       "[[484.7945861816406,\n",
       "  197.600341796875,\n",
       "  639.7181396484375,\n",
       "  341.90802001953125,\n",
       "  0.9466022253036499,\n",
       "  2.0],\n",
       " [550.061279296875,\n",
       "  207.764892578125,\n",
       "  639.783447265625,\n",
       "  389.59326171875,\n",
       "  0.9421472549438477,\n",
       "  2.0],\n",
       " [3.3649444580078125,\n",
       "  211.1846160888672,\n",
       "  131.88717651367188,\n",
       "  390.77386474609375,\n",
       "  0.9395735859870911,\n",
       "  2.0],\n",
       " [296.9148254394531,\n",
       "  155.71307373046875,\n",
       "  365.0833435058594,\n",
       "  337.88238525390625,\n",
       "  0.9212334156036377,\n",
       "  0.0],\n",
       " [0.282440185546875,\n",
       "  207.6501922607422,\n",
       "  72.10371398925781,\n",
       "  422.05206298828125,\n",
       "  0.917728841304779,\n",
       "  2.0],\n",
       " [446.42364501953125,\n",
       "  185.9605255126953,\n",
       "  585.5383911132812,\n",
       "  310.59027099609375,\n",
       "  0.9014944434165955,\n",
       "  2.0],\n",
       " [421.8916015625,\n",
       "  191.46505737304688,\n",
       "  487.9991455078125,\n",
       "  290.6255798339844,\n",
       "  0.8892126679420471,\n",
       "  2.0],\n",
       " [0.2852020263671875,\n",
       "  162.78939819335938,\n",
       "  181.54823303222656,\n",
       "  331.0289001464844,\n",
       "  0.8825201392173767,\n",
       "  2.0],\n",
       " [378.3748474121094,\n",
       "  198.18597412109375,\n",
       "  423.5370788574219,\n",
       "  266.05926513671875,\n",
       "  0.881301999092102,\n",
       "  2.0],\n",
       " [407.9731750488281,\n",
       "  188.97604370117188,\n",
       "  466.7288513183594,\n",
       "  274.1697082519531,\n",
       "  0.8551405668258667,\n",
       "  2.0],\n",
       " [356.10552978515625,\n",
       "  193.77227783203125,\n",
       "  413.49102783203125,\n",
       "  255.90081787109375,\n",
       "  0.8244511485099792,\n",
       "  2.0],\n",
       " [585.7764892578125,\n",
       "  174.70028686523438,\n",
       "  614.4991455078125,\n",
       "  199.57992553710938,\n",
       "  0.8057610988616943,\n",
       "  0.0],\n",
       " [154.70111083984375,\n",
       "  187.1578369140625,\n",
       "  195.47625732421875,\n",
       "  259.56597900390625,\n",
       "  0.8022695183753967,\n",
       "  2.0],\n",
       " [203.40927124023438,\n",
       "  178.99325561523438,\n",
       "  229.29974365234375,\n",
       "  239.50613403320312,\n",
       "  0.7917075753211975,\n",
       "  0.0],\n",
       " [257.535400390625,\n",
       "  181.90911865234375,\n",
       "  274.6065673828125,\n",
       "  237.31268310546875,\n",
       "  0.7640807032585144,\n",
       "  0.0],\n",
       " [270.73236083984375,\n",
       "  179.24960327148438,\n",
       "  296.643310546875,\n",
       "  236.200927734375,\n",
       "  0.7499776482582092,\n",
       "  0.0],\n",
       " [357.4541015625,\n",
       "  61.47987365722656,\n",
       "  369.4456787109375,\n",
       "  87.22904968261719,\n",
       "  0.7170788645744324,\n",
       "  9.0],\n",
       " [310.67083740234375,\n",
       "  330.11798095703125,\n",
       "  336.54278564453125,\n",
       "  348.05731201171875,\n",
       "  0.7127192616462708,\n",
       "  36.0]]"
      ]
     },
     "execution_count": 7,
     "metadata": {},
     "output_type": "execute_result"
    }
   ],
   "source": [
    "#[x_min,y_min,x_max,y_max,score,class]\n",
    "boxes"
   ]
  },
  {
   "cell_type": "code",
   "execution_count": null,
   "metadata": {},
   "outputs": [],
   "source": []
  }
 ],
 "metadata": {
  "colab": {
   "provenance": []
  },
  "kernelspec": {
   "display_name": "Python 3 (ipykernel)",
   "language": "python",
   "name": "python3"
  },
  "language_info": {
   "codemirror_mode": {
    "name": "ipython",
    "version": 3
   },
   "file_extension": ".py",
   "mimetype": "text/x-python",
   "name": "python",
   "nbconvert_exporter": "python",
   "pygments_lexer": "ipython3",
   "version": "3.9.13"
  }
 },
 "nbformat": 4,
 "nbformat_minor": 1
}
